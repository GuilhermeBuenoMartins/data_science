{
 "cells": [
  {
   "cell_type": "markdown",
   "metadata": {},
   "source": [
    "# Fórum"
   ]
  },
  {
   "cell_type": "markdown",
   "metadata": {},
   "source": [
    "Suponha que list1 seja [2, 33, 222, 14, 25], o que é list1[-1]?"
   ]
  },
  {
   "cell_type": "code",
   "execution_count": 1,
   "metadata": {},
   "outputs": [
    {
     "data": {
      "text/plain": [
       "25"
      ]
     },
     "execution_count": 1,
     "metadata": {},
     "output_type": "execute_result"
    }
   ],
   "source": [
    "list1 = [2, 33, 222, 14, 25]\n",
    "list1[-1]"
   ]
  },
  {
   "cell_type": "code",
   "execution_count": 5,
   "metadata": {},
   "outputs": [
    {
     "data": {
      "text/plain": [
       "array('l')"
      ]
     },
     "execution_count": 5,
     "metadata": {},
     "output_type": "execute_result"
    }
   ],
   "source": [
    "import array\n",
    "array.array('l')\n"
   ]
  },
  {
   "cell_type": "code",
   "execution_count": 7,
   "metadata": {},
   "outputs": [
    {
     "data": {
      "text/plain": [
       "array('u', 'hello ♁')"
      ]
     },
     "execution_count": 7,
     "metadata": {},
     "output_type": "execute_result"
    }
   ],
   "source": [
    "array.array('u', 'hello \\u2641')"
   ]
  },
  {
   "cell_type": "code",
   "execution_count": 9,
   "metadata": {},
   "outputs": [
    {
     "data": {
      "text/plain": [
       "array('l', [1, 2, 3, 4, 5])"
      ]
     },
     "execution_count": 9,
     "metadata": {},
     "output_type": "execute_result"
    }
   ],
   "source": [
    "array.array('l', [1, 2, 3, 4, 5])"
   ]
  },
  {
   "cell_type": "code",
   "execution_count": 10,
   "metadata": {},
   "outputs": [
    {
     "data": {
      "text/plain": [
       "array('d', [1.0, 2.0, 3.14])"
      ]
     },
     "execution_count": 10,
     "metadata": {},
     "output_type": "execute_result"
    }
   ],
   "source": [
    "array.array('d', [1.0, 2.0, 3.14])"
   ]
  },
  {
   "cell_type": "code",
   "execution_count": 11,
   "metadata": {},
   "outputs": [],
   "source": [
    "#Declaração da Classe A\n",
    "class A:\n",
    "    #Metodo de inicialização\n",
    "    def __init__(self):\n",
    "        #Atributo da classe\n",
    "        self.a\n",
    "        "
   ]
  },
  {
   "cell_type": "markdown",
   "metadata": {},
   "source": [
    "import_stmt     ::=  \"import\" module [\"as\" identifier] (\",\" module [\"as\" identifier])*\n",
    "                     | \"from\" relative_module \"import\" identifier [\"as\" identifier]\n",
    "                     (\",\" identifier [\"as\" identifier])*\n",
    "                     | \"from\" relative_module \"import\" \"(\" identifier [\"as\" identifier]\n",
    "                     (\",\" identifier [\"as\" identifier])* [\",\"] \")\"\n",
    "                     | \"from\" module \"import\" \"*\"\n",
    "module          ::=  (identifier \".\")* identifier\n",
    "relative_module ::=  \".\"* module | \".\"+\n"
   ]
  },
  {
   "cell_type": "code",
   "execution_count": null,
   "metadata": {},
   "outputs": [],
   "source": [
    "import foo                 # foo imported and bound locally\n",
    "import foo.bar.baz         # foo.bar.baz imported, foo bound locally\n",
    "import foo.bar.baz as fbb  # foo.bar.baz imported and bound as fbb\n",
    "from foo.bar import baz    # foo.bar.baz imported and bound as baz\n",
    "from foo import attr       # foo imported and foo.attr bound as attr"
   ]
  },
  {
   "cell_type": "markdown",
   "metadata": {},
   "source": [
    "Exemplo de Herança:"
   ]
  },
  {
   "cell_type": "code",
   "execution_count": 1,
   "metadata": {},
   "outputs": [],
   "source": [
    "class Robot:\n",
    "    def __init__(self, name):\n",
    "        self.name = name\n",
    "        \n",
    "    def say_hi(self):\n",
    "        print(\"Hi, I am \", self.name)"
   ]
  },
  {
   "cell_type": "code",
   "execution_count": 4,
   "metadata": {},
   "outputs": [],
   "source": [
    "class PhysicianRobot(Robot):\n",
    "    pass"
   ]
  },
  {
   "cell_type": "code",
   "execution_count": 5,
   "metadata": {},
   "outputs": [
    {
     "name": "stdout",
     "output_type": "stream",
     "text": [
      "<__main__.Robot object at 0x00000286D541E550>\n",
      "<__main__.PhysicianRobot object at 0x00000286D541E518>\n",
      "Hi, I am  Marvin\n",
      "Hi, I am  James\n"
     ]
    }
   ],
   "source": [
    "x = Robot('Marvin')\n",
    "y = PhysicianRobot('James')\n",
    "print(x)\n",
    "print(y)\n",
    "x.say_hi()\n",
    "y.say_hi()"
   ]
  },
  {
   "cell_type": "code",
   "execution_count": null,
   "metadata": {},
   "outputs": [],
   "source": []
  }
 ],
 "metadata": {
  "kernelspec": {
   "display_name": "Python 3",
   "language": "python",
   "name": "python3"
  },
  "language_info": {
   "codemirror_mode": {
    "name": "ipython",
    "version": 3
   },
   "file_extension": ".py",
   "mimetype": "text/x-python",
   "name": "python",
   "nbconvert_exporter": "python",
   "pygments_lexer": "ipython3",
   "version": "3.6.5"
  }
 },
 "nbformat": 4,
 "nbformat_minor": 2
}
